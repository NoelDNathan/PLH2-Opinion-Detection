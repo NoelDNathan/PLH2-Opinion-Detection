{
 "cells": [
  {
   "cell_type": "code",
   "execution_count": 1,
   "metadata": {},
   "outputs": [
    {
     "name": "stderr",
     "output_type": "stream",
     "text": [
      "[nltk_data] Downloading package movie_reviews to C:\\Users\\Noel\n",
      "[nltk_data]     Nathan\\AppData\\Roaming\\nltk_data...\n",
      "[nltk_data]   Package movie_reviews is already up-to-date!\n",
      "[nltk_data] Downloading package stopwords to C:\\Users\\Noel\n",
      "[nltk_data]     Nathan\\AppData\\Roaming\\nltk_data...\n",
      "[nltk_data]   Package stopwords is already up-to-date!\n"
     ]
    }
   ],
   "source": [
    "from nltk.corpus import movie_reviews as mr, stopwords\n",
    "import nltk\n",
    "from sklearn.feature_extraction.text import CountVectorizer\n",
    "nltk.download('movie_reviews')\n",
    "nltk.download('stopwords')\n",
    "import pandas as pd\n",
    "from nltk.tokenize import word_tokenize\n",
    "from nltk.stem import WordNetLemmatizer\n",
    "from sklearn.feature_extraction.text import CountVectorizer\n",
    "import re"
   ]
  },
  {
   "cell_type": "code",
   "execution_count": 2,
   "metadata": {},
   "outputs": [],
   "source": [
    "def clean_words(word):\n",
    "    word = re.sub('_', ' ', word)\n",
    "    if word in stopwords.words('english'):\n",
    "        return False\n",
    "    \n",
    "    if re.search(r'\\d+', word): # Remove numbers\n",
    "        return False\n",
    "    \n",
    "    \n",
    "    # use only words in the english dictionary\n",
    "    # if not WordNetLemmatizer().lemmatize(word).lower() in nltk.corpus.words.words():\n",
    "    #     return False\n",
    "    \n",
    "    return True"
   ]
  },
  {
   "cell_type": "code",
   "execution_count": 3,
   "metadata": {},
   "outputs": [],
   "source": [
    "\n",
    "# Text tokenizated\n",
    "words = mr.words()[:20000]\n",
    "\n",
    "\n",
    "# Apply lemmatization to each word\n",
    "lemmatizer = WordNetLemmatizer()\n",
    "lemmas = [lemmatizer.lemmatize(word) for word in words]\n",
    "\n",
    "# Remove stop words from the lemmas\n",
    "# stop_words = stopwords.words('english')\n",
    "# filtered_lemmas = filter(lambda lemma: lemma not in stop_words, lemmas)\n",
    "filtered_lemmas = filter(lambda lemma: clean_words(lemma), lemmas)\n",
    "\n",
    "# Apply count vectorization to the filtered lemmas\n",
    "vectorizer = CountVectorizer()\n",
    "count_vectors = vectorizer.fit(filtered_lemmas)"
   ]
  },
  {
   "cell_type": "code",
   "execution_count": 4,
   "metadata": {},
   "outputs": [
    {
     "name": "stdout",
     "output_type": "stream",
     "text": [
      "                                              review  sentiment\n",
      "0  plot : two teen couples go to a church party ,...          0\n",
      "1  the happy bastard's quick movie review \\ndamn ...          0\n",
      "2  it is movies like these that make a jaded movi...          0\n",
      "3   \" quest for camelot \" is warner bros . ' firs...          0\n",
      "4  synopsis : a mentally unstable man undergoing ...          0\n"
     ]
    }
   ],
   "source": [
    "from nltk.corpus import movie_reviews\n",
    "\n",
    "reviews = [(movie_reviews.raw(fileid), category)\n",
    "           for category in movie_reviews.categories()\n",
    "           for fileid in movie_reviews.fileids(category)]\n",
    "\n",
    "# Convert the reviews into a pandas DataFrame\n",
    "df = pd.DataFrame(reviews, columns=['review', 'sentiment'])\n",
    "\n",
    "# Map the sentiment labels to binary values (0 for negative and 1 for positive)\n",
    "df['sentiment'] = df['sentiment'].map({'neg': 0, 'pos': 1})\n",
    "\n",
    "# Print the first few rows of the DataFrame to check the output\n",
    "print(df.head())"
   ]
  },
  {
   "cell_type": "code",
   "execution_count": 5,
   "metadata": {},
   "outputs": [],
   "source": [
    "count_vectorized = vectorizer.transform(df['review'])"
   ]
  },
  {
   "cell_type": "code",
   "execution_count": 6,
   "metadata": {},
   "outputs": [],
   "source": [
    "count_array = count_vectorized.toarray()\n",
    "test = pd.DataFrame(data=count_vectorized.toarray(),columns = vectorizer.get_feature_names_out())\n",
    "test.to_csv('test.csv', sep=';')"
   ]
  }
 ],
 "metadata": {
  "kernelspec": {
   "display_name": "Python 3",
   "language": "python",
   "name": "python3"
  },
  "language_info": {
   "codemirror_mode": {
    "name": "ipython",
    "version": 3
   },
   "file_extension": ".py",
   "mimetype": "text/x-python",
   "name": "python",
   "nbconvert_exporter": "python",
   "pygments_lexer": "ipython3",
   "version": "3.8.10"
  },
  "orig_nbformat": 4
 },
 "nbformat": 4,
 "nbformat_minor": 2
}
