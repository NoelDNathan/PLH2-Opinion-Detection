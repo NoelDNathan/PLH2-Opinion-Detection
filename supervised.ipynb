{
 "cells": [
  {
   "cell_type": "code",
   "execution_count": 1,
   "metadata": {},
   "outputs": [
    {
     "name": "stderr",
     "output_type": "stream",
     "text": [
      "[nltk_data] Downloading package movie_reviews to C:\\Users\\Noel\n",
      "[nltk_data]     Nathan\\AppData\\Roaming\\nltk_data...\n",
      "[nltk_data]   Package movie_reviews is already up-to-date!\n",
      "[nltk_data] Downloading package stopwords to C:\\Users\\Noel\n",
      "[nltk_data]     Nathan\\AppData\\Roaming\\nltk_data...\n",
      "[nltk_data]   Package stopwords is already up-to-date!\n"
     ]
    }
   ],
   "source": [
    "from nltk.corpus import movie_reviews as mr, stopwords\n",
    "import nltk\n",
    "from sklearn.feature_extraction.text import CountVectorizer\n",
    "nltk.download('movie_reviews')\n",
    "nltk.download('stopwords')\n",
    "import pandas as pd\n",
    "from nltk.tokenize import word_tokenize\n",
    "from nltk.stem import WordNetLemmatizer\n",
    "from sklearn.feature_extraction.text import CountVectorizer\n",
    "import re"
   ]
  },
  {
   "attachments": {},
   "cell_type": "markdown",
   "metadata": {},
   "source": [
    "\n",
    "Función que se utiliza para limpiar palabras, si es False, no se utiliza esa palabra"
   ]
  },
  {
   "cell_type": "code",
   "execution_count": 2,
   "metadata": {},
   "outputs": [],
   "source": [
    "def clean_words(word):\n",
    "    word = re.sub('_', ' ', word)\n",
    "    if word in stopwords.words('english'):\n",
    "        return False\n",
    "    \n",
    "    if re.search(r'\\d+', word): # Remove numbers\n",
    "        return False\n",
    "    \n",
    "    \n",
    "    # use only words in the english dictionary\n",
    "    # if not WordNetLemmatizer().lemmatize(word).lower() in nltk.corpus.words.words():\n",
    "    #     return False\n",
    "    \n",
    "    return True"
   ]
  },
  {
   "attachments": {},
   "cell_type": "markdown",
   "metadata": {},
   "source": [
    "Entrenamos el CountVectorizer"
   ]
  },
  {
   "cell_type": "code",
   "execution_count": 4,
   "metadata": {},
   "outputs": [],
   "source": [
    "\n",
    "# Text tokenizated\n",
    "words = mr.words()\n",
    "\n",
    "\n",
    "# Apply lemmatization to each word\n",
    "lemmatizer = WordNetLemmatizer()\n",
    "lemmas = [lemmatizer.lemmatize(word) for word in words]\n",
    "\n",
    "# Remove stop words from the lemmas\n",
    "# stop_words = stopwords.words('english')\n",
    "# filtered_lemmas = filter(lambda lemma: lemma not in stop_words, lemmas)\n",
    "filtered_lemmas = filter(clean_words, lemmas)\n",
    "\n",
    "# Apply count vectorization to the filtered lemmas\n",
    "vectorizer = CountVectorizer()\n",
    "count_vectors = vectorizer.fit(filtered_lemmas)"
   ]
  },
  {
   "attachments": {},
   "cell_type": "markdown",
   "metadata": {},
   "source": [
    "En reviews se carga cada texto con su categoria -> ('victor és un troç d'espinaca', 'negativo')"
   ]
  },
  {
   "cell_type": "code",
   "execution_count": 5,
   "metadata": {},
   "outputs": [
    {
     "name": "stdout",
     "output_type": "stream",
     "text": [
      "                                              review  sentiment\n",
      "0  plot : two teen couples go to a church party ,...          0\n",
      "1  the happy bastard's quick movie review \\ndamn ...          0\n",
      "2  it is movies like these that make a jaded movi...          0\n",
      "3   \" quest for camelot \" is warner bros . ' firs...          0\n",
      "4  synopsis : a mentally unstable man undergoing ...          0\n"
     ]
    }
   ],
   "source": [
    "from nltk.corpus import movie_reviews\n",
    "\n",
    "reviews = [(movie_reviews.raw(fileid), category)\n",
    "           for category in movie_reviews.categories()\n",
    "           for fileid in movie_reviews.fileids(category)]\n",
    "\n",
    "# Convert the reviews into a pandas DataFrame\n",
    "df = pd.DataFrame(reviews, columns=['review', 'sentiment'])\n",
    "\n",
    "# Map the sentiment labels to binary values (0 for negative and 1 for positive)\n",
    "df['sentiment'] = df['sentiment'].map({'neg': 0, 'pos': 1})\n",
    "\n",
    "# Print the first few rows of the DataFrame to check the output\n",
    "print(df.head())"
   ]
  },
  {
   "attachments": {},
   "cell_type": "markdown",
   "metadata": {},
   "source": [
    "Aplicamos a los datos el count vectorize"
   ]
  },
  {
   "cell_type": "code",
   "execution_count": 6,
   "metadata": {},
   "outputs": [],
   "source": [
    "count_vectorized = vectorizer.transform(df['review'])"
   ]
  },
  {
   "cell_type": "code",
   "execution_count": 7,
   "metadata": {},
   "outputs": [],
   "source": [
    "count_array = count_vectorized.toarray()\n",
    "test = pd.DataFrame(data=count_vectorized.toarray(),columns = vectorizer.get_feature_names_out())\n",
    "test.to_csv('test.csv', sep=';')"
   ]
  },
  {
   "cell_type": "code",
   "execution_count": 8,
   "metadata": {},
   "outputs": [],
   "source": [
    "from sklearn.naive_bayes import MultinomialNB\n",
    "from sklearn.metrics import accuracy_score\n",
    "from sklearn.model_selection import train_test_split\n",
    "\n",
    "X = vectorizer.transform(df['review'])\n",
    "y = df['sentiment']\n",
    "\n",
    "# Split the data into training and test sets\n",
    "X_train, X_test, y_train, y_test = train_test_split(X, y, test_size=0.2, random_state=1)"
   ]
  },
  {
   "attachments": {},
   "cell_type": "markdown",
   "metadata": {},
   "source": [
    "# Creating models"
   ]
  },
  {
   "cell_type": "code",
   "execution_count": 9,
   "metadata": {},
   "outputs": [
    {
     "name": "stdout",
     "output_type": "stream",
     "text": [
      "Best parameters: {'alpha': 1.0, 'fit_prior': True}\n",
      "Best score: 0.804375\n"
     ]
    }
   ],
   "source": [
    "from sklearn.naive_bayes import MultinomialNB\n",
    "from sklearn.model_selection import GridSearchCV\n",
    "\n",
    "param_grid = {\n",
    "    'alpha': [0.1, 1.0, 10.0],\n",
    "    'fit_prior': [True, False]\n",
    "}\n",
    "\n",
    "nb = MultinomialNB()\n",
    "grid_search = GridSearchCV(nb, param_grid, cv=5)\n",
    "\n",
    "grid_search.fit(X_train, y_train)\n",
    "\n",
    "print(\"Best parameters:\", grid_search.best_params_)\n",
    "print(\"Best score:\", grid_search.best_score_)\n"
   ]
  },
  {
   "cell_type": "code",
   "execution_count": 10,
   "metadata": {},
   "outputs": [
    {
     "name": "stdout",
     "output_type": "stream",
     "text": [
      "Best parameters: {'criterion': 'entropy', 'max_depth': 6, 'max_features': 'sqrt', 'n_estimators': 500}\n",
      "Best score: 0.8450000000000001\n"
     ]
    }
   ],
   "source": [
    "from sklearn.ensemble import RandomForestClassifier\n",
    "\n",
    "param_grid = {\n",
    "    'n_estimators': [100, 200, 500],\n",
    "    'max_features': ['sqrt', 'log2'],\n",
    "    'max_depth' : [4,6,8],\n",
    "    'criterion' :['gini', 'entropy']\n",
    "}\n",
    "\n",
    "rfc = RandomForestClassifier()\n",
    "\n",
    "grid_search = GridSearchCV(rfc, param_grid, cv=5)\n",
    "\n",
    "grid_search.fit(X_train, y_train)\n",
    "\n",
    "print(\"Best parameters:\", grid_search.best_params_)\n",
    "print(\"Best score:\", grid_search.best_score_)\n"
   ]
  },
  {
   "cell_type": "code",
   "execution_count": 11,
   "metadata": {},
   "outputs": [
    {
     "name": "stdout",
     "output_type": "stream",
     "text": [
      "Best parameters: {'gamma': 0, 'learning_rate': 0.2, 'max_depth': 3, 'n_estimators': 200}\n",
      "Best score: 0.8125\n"
     ]
    }
   ],
   "source": [
    "import xgboost as xgb\n",
    "param_grid = {\n",
    "    'learning_rate': [0.01, 0.1, 0.2],\n",
    "    'max_depth': [3, 4, 5],\n",
    "    'n_estimators': [50, 100, 200],\n",
    "    'gamma': [0, 0.1, 0.2]\n",
    "}\n",
    "\n",
    "xgb_model = xgb.XGBClassifier()\n",
    "\n",
    "grid_search = GridSearchCV(xgb_model, param_grid, cv=5)\n",
    "\n",
    "grid_search.fit(X_train, y_train)\n",
    "\n",
    "print(\"Best parameters:\", grid_search.best_params_)\n",
    "print(\"Best score:\", grid_search.best_score_)"
   ]
  }
 ],
 "metadata": {
  "kernelspec": {
   "display_name": "Python 3",
   "language": "python",
   "name": "python3"
  },
  "language_info": {
   "codemirror_mode": {
    "name": "ipython",
    "version": 3
   },
   "file_extension": ".py",
   "mimetype": "text/x-python",
   "name": "python",
   "nbconvert_exporter": "python",
   "pygments_lexer": "ipython3",
   "version": "3.8.10"
  },
  "orig_nbformat": 4
 },
 "nbformat": 4,
 "nbformat_minor": 2
}
