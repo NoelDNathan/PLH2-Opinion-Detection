{
 "cells": [
  {
   "cell_type": "code",
   "execution_count": 2,
   "metadata": {},
   "outputs": [],
   "source": [
    "from textserver import TextServer"
   ]
  },
  {
   "cell_type": "code",
   "execution_count": 3,
   "metadata": {},
   "outputs": [
    {
     "data": {
      "text/plain": [
       "[[[\"L'\", 'el', 'DA0CS0', 'determiner', 'N/A'],\n",
       "  ['Arnau', 'arnau', 'NP00O00', 'noun', 'N/A'],\n",
       "  ['té', 'tenir', 'VMIP3S0', 'verb', '02205098-v'],\n",
       "  ['un', 'un', 'DI0MS0', 'determiner', 'N/A'],\n",
       "  ['gos', 'gos', 'NCMS000', 'noun', '02084071-n'],\n",
       "  ['.', '.', 'Fp', 'punctuation', 'N/A']],\n",
       " [['Se', 'es', 'P00CN00', 'pronoun', 'N/A'],\n",
       "  [\"l'\", 'el', 'PP3CSA0', 'pronoun', 'N/A'],\n",
       "  ['estima', 'estimar', 'VMIP3S0', 'verb', '02256109-v'],\n",
       "  ['molt', 'molt', 'RG', 'adverb', '00059171-r'],\n",
       "  ['.', '.', 'Fp', 'punctuation', 'N/A']]]"
      ]
     },
     "execution_count": 3,
     "metadata": {},
     "output_type": "execute_result"
    }
   ],
   "source": [
    "ts = TextServer('Noel3546', 'AzulAmarillo55#', 'senses') \n",
    "ts.senses(\"L'Arnau té un gos. Se l'estima molt.\")"
   ]
  },
  {
   "cell_type": "code",
   "execution_count": 7,
   "metadata": {},
   "outputs": [
    {
     "data": {
      "text/html": [
       "<div>\n",
       "<style scoped>\n",
       "    .dataframe tbody tr th:only-of-type {\n",
       "        vertical-align: middle;\n",
       "    }\n",
       "\n",
       "    .dataframe tbody tr th {\n",
       "        vertical-align: top;\n",
       "    }\n",
       "\n",
       "    .dataframe thead th {\n",
       "        text-align: right;\n",
       "    }\n",
       "</style>\n",
       "<table border=\"1\" class=\"dataframe\">\n",
       "  <thead>\n",
       "    <tr style=\"text-align: right;\">\n",
       "      <th></th>\n",
       "      <th>forma</th>\n",
       "      <th>lema</th>\n",
       "      <th>tag</th>\n",
       "      <th>pos</th>\n",
       "      <th>synset</th>\n",
       "    </tr>\n",
       "  </thead>\n",
       "  <tbody>\n",
       "    <tr>\n",
       "      <th>0</th>\n",
       "      <td>L'</td>\n",
       "      <td>el</td>\n",
       "      <td>DA0CS0</td>\n",
       "      <td>determiner</td>\n",
       "      <td>N/A</td>\n",
       "    </tr>\n",
       "    <tr>\n",
       "      <th>1</th>\n",
       "      <td>Arnau</td>\n",
       "      <td>arnau</td>\n",
       "      <td>NP00O00</td>\n",
       "      <td>noun</td>\n",
       "      <td>N/A</td>\n",
       "    </tr>\n",
       "    <tr>\n",
       "      <th>2</th>\n",
       "      <td>té</td>\n",
       "      <td>tenir</td>\n",
       "      <td>VMIP3S0</td>\n",
       "      <td>verb</td>\n",
       "      <td>02205098-v</td>\n",
       "    </tr>\n",
       "    <tr>\n",
       "      <th>3</th>\n",
       "      <td>un</td>\n",
       "      <td>un</td>\n",
       "      <td>DI0MS0</td>\n",
       "      <td>determiner</td>\n",
       "      <td>N/A</td>\n",
       "    </tr>\n",
       "    <tr>\n",
       "      <th>4</th>\n",
       "      <td>gos</td>\n",
       "      <td>gos</td>\n",
       "      <td>NCMS000</td>\n",
       "      <td>noun</td>\n",
       "      <td>02084071-n</td>\n",
       "    </tr>\n",
       "    <tr>\n",
       "      <th>5</th>\n",
       "      <td>.</td>\n",
       "      <td>.</td>\n",
       "      <td>Fp</td>\n",
       "      <td>punctuation</td>\n",
       "      <td>N/A</td>\n",
       "    </tr>\n",
       "    <tr>\n",
       "      <th>6</th>\n",
       "      <td>Se</td>\n",
       "      <td>es</td>\n",
       "      <td>P00CN00</td>\n",
       "      <td>pronoun</td>\n",
       "      <td>N/A</td>\n",
       "    </tr>\n",
       "    <tr>\n",
       "      <th>7</th>\n",
       "      <td>l'</td>\n",
       "      <td>el</td>\n",
       "      <td>PP3CSA0</td>\n",
       "      <td>pronoun</td>\n",
       "      <td>N/A</td>\n",
       "    </tr>\n",
       "    <tr>\n",
       "      <th>8</th>\n",
       "      <td>estima</td>\n",
       "      <td>estimar</td>\n",
       "      <td>VMIP3S0</td>\n",
       "      <td>verb</td>\n",
       "      <td>02256109-v</td>\n",
       "    </tr>\n",
       "    <tr>\n",
       "      <th>9</th>\n",
       "      <td>molt</td>\n",
       "      <td>molt</td>\n",
       "      <td>RG</td>\n",
       "      <td>adverb</td>\n",
       "      <td>00059171-r</td>\n",
       "    </tr>\n",
       "    <tr>\n",
       "      <th>10</th>\n",
       "      <td>.</td>\n",
       "      <td>.</td>\n",
       "      <td>Fp</td>\n",
       "      <td>punctuation</td>\n",
       "      <td>N/A</td>\n",
       "    </tr>\n",
       "  </tbody>\n",
       "</table>\n",
       "</div>"
      ],
      "text/plain": [
       "     forma     lema      tag          pos      synset\n",
       "0       L'       el   DA0CS0   determiner         N/A\n",
       "1    Arnau    arnau  NP00O00         noun         N/A\n",
       "2       té    tenir  VMIP3S0         verb  02205098-v\n",
       "3       un       un   DI0MS0   determiner         N/A\n",
       "4      gos      gos  NCMS000         noun  02084071-n\n",
       "5        .        .       Fp  punctuation         N/A\n",
       "6       Se       es  P00CN00      pronoun         N/A\n",
       "7       l'       el  PP3CSA0      pronoun         N/A\n",
       "8   estima  estimar  VMIP3S0         verb  02256109-v\n",
       "9     molt     molt       RG       adverb  00059171-r\n",
       "10       .        .       Fp  punctuation         N/A"
      ]
     },
     "execution_count": 7,
     "metadata": {},
     "output_type": "execute_result"
    }
   ],
   "source": [
    "ts.senses(\"L'Arnau té un gos. Se l'estima molt.\", pandas=True)"
   ]
  }
 ],
 "metadata": {
  "kernelspec": {
   "display_name": "Python 3",
   "language": "python",
   "name": "python3"
  },
  "language_info": {
   "codemirror_mode": {
    "name": "ipython",
    "version": 3
   },
   "file_extension": ".py",
   "mimetype": "text/x-python",
   "name": "python",
   "nbconvert_exporter": "python",
   "pygments_lexer": "ipython3",
   "version": "3.8.10"
  },
  "orig_nbformat": 4
 },
 "nbformat": 4,
 "nbformat_minor": 2
}
