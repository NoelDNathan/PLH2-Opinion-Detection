{
 "cells": [
  {
   "cell_type": "code",
   "execution_count": 1,
   "metadata": {},
   "outputs": [
    {
     "name": "stdout",
     "output_type": "stream",
     "text": [
      "Synsets of the word 'car':\n",
      "car.n.01 - a motor vehicle with four wheels; usually propelled by an internal combustion engine\n",
      "car.n.02 - a wheeled vehicle adapted to the rails of railroad\n",
      "car.n.03 - the compartment that is suspended from an airship and that carries personnel and the cargo and the power plant\n",
      "car.n.04 - where passengers ride up and down\n",
      "cable_car.n.01 - a conveyance for passengers or freight on a cable railway\n"
     ]
    }
   ],
   "source": [
    "import nltk\n",
    "from nltk.corpus import wordnet as wn\n",
    "\n",
    "word = \"car\"\n",
    "synsets = wn.synsets(word)\n"
   ]
  },
  {
   "cell_type": "code",
   "execution_count": null,
   "metadata": {},
   "outputs": [],
   "source": [
    "from nltk.corpus import movie_reviews as mr"
   ]
  },
  {
   "cell_type": "code",
   "execution_count": 26,
   "metadata": {},
   "outputs": [
    {
     "name": "stdout",
     "output_type": "stream",
     "text": [
      "-0.9984025559105432\n"
     ]
    }
   ],
   "source": [
    "import nltk\n",
    "from nltk.corpus import wordnet as wn\n",
    "from nltk.corpus import sentiwordnet as swn\n",
    "\n",
    "# Define una función para calcular la polaridad de un synset\n",
    "def synset_polarity(synset):\n",
    "    senti_synset = swn.senti_synset(synset.name())\n",
    "    if not senti_synset:\n",
    "        # Si el synset no tiene entrada en SentiWordNet, devuelve polaridad neutra\n",
    "        return 0\n",
    "    else:\n",
    "        # Calcula la polaridad positiva y negativa del synset\n",
    "        pos_score = senti_synset.pos_score()\n",
    "        neg_score = senti_synset.neg_score()\n",
    "        # Calcula la polaridad total normalizada\n",
    "        polarity = (pos_score - neg_score) / (pos_score + neg_score + 0.001)\n",
    "        return polarity\n",
    "\n",
    "# Define una función para obtener los synsets y polaridades de cada adjetivo en un conjunto de texto\n",
    "def get_adjective_polarities(text):\n",
    "    words = nltk.word_tokenize(text)\n",
    "    adjectives = []\n",
    "    for word, pos in nltk.pos_tag(words):\n",
    "        if pos.startswith('JJ'):\n",
    "            adjectives.append((word, pos, wn.synsets(word)))\n",
    "    polarities = []\n",
    "    for word, pos, synsets in adjectives:\n",
    "        polarity = 0\n",
    "        count = 0\n",
    "        for synset in synsets:\n",
    "            polarity += synset_polarity(synset)\n",
    "            count += 1\n",
    "        if count > 0:\n",
    "            polarity /= count\n",
    "        polarities.append(polarity)\n",
    "    return polarities\n",
    "\n",
    "# Ejemplo de uso\n",
    "text = \"I hated the movie, it was horrible!\"\n",
    "polarities = get_adjective_polarities(text)\n",
    "for polarity in polarities:\n",
    "    print(polarity)\n",
    "\n",
    "\n"
   ]
  },
  {
   "cell_type": "code",
   "execution_count": 10,
   "metadata": {},
   "outputs": [],
   "source": [
    "import pandas as pd\n",
    "from sklearn.model_selection import train_test_split\n",
    "\n",
    "# Carga los datos\n",
    "df = pd.read_csv('reviews.csv')\n",
    "X = df.drop('sentiment', axis=1)\n",
    "y = df['sentiment']\n",
    "\n",
    "# Split the data into training and test sets\n",
    "X_train, X_test, y_train, y_test = train_test_split(X, y, test_size=0.2, random_state=1)"
   ]
  },
  {
   "cell_type": "code",
   "execution_count": 14,
   "metadata": {},
   "outputs": [
    {
     "data": {
      "text/html": [
       "<div>\n",
       "<style scoped>\n",
       "    .dataframe tbody tr th:only-of-type {\n",
       "        vertical-align: middle;\n",
       "    }\n",
       "\n",
       "    .dataframe tbody tr th {\n",
       "        vertical-align: top;\n",
       "    }\n",
       "\n",
       "    .dataframe thead th {\n",
       "        text-align: right;\n",
       "    }\n",
       "</style>\n",
       "<table border=\"1\" class=\"dataframe\">\n",
       "  <thead>\n",
       "    <tr style=\"text-align: right;\">\n",
       "      <th></th>\n",
       "      <th>fileid</th>\n",
       "      <th>review</th>\n",
       "    </tr>\n",
       "  </thead>\n",
       "  <tbody>\n",
       "    <tr>\n",
       "      <th>674</th>\n",
       "      <td>neg/cv674_11593.txt</td>\n",
       "      <td>steve martin is one of the funniest men alive ...</td>\n",
       "    </tr>\n",
       "    <tr>\n",
       "      <th>1699</th>\n",
       "      <td>pos/cv699_7223.txt</td>\n",
       "      <td>very few people would be unaware of beavis &amp; b...</td>\n",
       "    </tr>\n",
       "    <tr>\n",
       "      <th>1282</th>\n",
       "      <td>pos/cv282_6653.txt</td>\n",
       "      <td>ok , let's get one thing straight right away :...</td>\n",
       "    </tr>\n",
       "    <tr>\n",
       "      <th>1315</th>\n",
       "      <td>pos/cv315_11629.txt</td>\n",
       "      <td>confession time : i have never , ever seen gon...</td>\n",
       "    </tr>\n",
       "    <tr>\n",
       "      <th>1210</th>\n",
       "      <td>pos/cv210_9312.txt</td>\n",
       "      <td>i must say from the outset that i have never b...</td>\n",
       "    </tr>\n",
       "    <tr>\n",
       "      <th>...</th>\n",
       "      <td>...</td>\n",
       "      <td>...</td>\n",
       "    </tr>\n",
       "    <tr>\n",
       "      <th>400</th>\n",
       "      <td>neg/cv400_20631.txt</td>\n",
       "      <td>the last of vampire-films offers plenty of blo...</td>\n",
       "    </tr>\n",
       "    <tr>\n",
       "      <th>763</th>\n",
       "      <td>neg/cv763_16486.txt</td>\n",
       "      <td>it used to be that not just anyone could becom...</td>\n",
       "    </tr>\n",
       "    <tr>\n",
       "      <th>385</th>\n",
       "      <td>neg/cv385_29621.txt</td>\n",
       "      <td>surrounded by hype , high hopes , and the prom...</td>\n",
       "    </tr>\n",
       "    <tr>\n",
       "      <th>1667</th>\n",
       "      <td>pos/cv667_18467.txt</td>\n",
       "      <td>the opening crawl tells us that the galaxy is ...</td>\n",
       "    </tr>\n",
       "    <tr>\n",
       "      <th>1820</th>\n",
       "      <td>pos/cv820_22892.txt</td>\n",
       "      <td>i was originally going to give the spanish pri...</td>\n",
       "    </tr>\n",
       "  </tbody>\n",
       "</table>\n",
       "<p>400 rows × 2 columns</p>\n",
       "</div>"
      ],
      "text/plain": [
       "                   fileid                                             review\n",
       "674   neg/cv674_11593.txt  steve martin is one of the funniest men alive ...\n",
       "1699   pos/cv699_7223.txt  very few people would be unaware of beavis & b...\n",
       "1282   pos/cv282_6653.txt  ok , let's get one thing straight right away :...\n",
       "1315  pos/cv315_11629.txt  confession time : i have never , ever seen gon...\n",
       "1210   pos/cv210_9312.txt  i must say from the outset that i have never b...\n",
       "...                   ...                                                ...\n",
       "400   neg/cv400_20631.txt  the last of vampire-films offers plenty of blo...\n",
       "763   neg/cv763_16486.txt  it used to be that not just anyone could becom...\n",
       "385   neg/cv385_29621.txt  surrounded by hype , high hopes , and the prom...\n",
       "1667  pos/cv667_18467.txt  the opening crawl tells us that the galaxy is ...\n",
       "1820  pos/cv820_22892.txt  i was originally going to give the spanish pri...\n",
       "\n",
       "[400 rows x 2 columns]"
      ]
     },
     "execution_count": 14,
     "metadata": {},
     "output_type": "execute_result"
    }
   ],
   "source": [
    "X_test"
   ]
  },
  {
   "cell_type": "code",
   "execution_count": 27,
   "metadata": {},
   "outputs": [
    {
     "name": "stdout",
     "output_type": "stream",
     "text": [
      "Accuracy:  0.6475\n",
      "Precision:  0.6203007518796992\n",
      "Recall:  0.8048780487804879\n",
      "F1:  0.7006369426751593\n"
     ]
    }
   ],
   "source": [
    "\n",
    "FN = 0 # False Negative\n",
    "FP = 0 # False Positive\n",
    "TP = 0 # True Positive\n",
    "TN = 0 # True Negative\n",
    "\n",
    "for text, pred in zip(X_test['review'], y_test):\n",
    "    polarities = get_adjective_polarities(text)     \n",
    "    output = 0\n",
    "    if sum(polarities) > 0:\n",
    "        output = 1\n",
    "    if output == 1 and pred:\n",
    "        TP += 1\n",
    "    elif output == 1 and not pred:\n",
    "        FP += 1\n",
    "    elif output == 0 and pred:\n",
    "        FN += 1\n",
    "    elif output == 0 and not pred:\n",
    "        TN += 1\n",
    "\n",
    "accuracy = (TP + TN) / (TP + TN + FP + FN)\n",
    "precision = TP / (TP + FP)\n",
    "recall = TP / (TP + FN)\n",
    "f1 = 2 * (precision * recall) / (precision + recall)\n",
    "\n",
    "print(\"Accuracy: \", accuracy)\n",
    "print(\"Precision: \", precision)\n",
    "print(\"Recall: \", recall)\n",
    "print(\"F1: \", f1)\n",
    "\n",
    "    \n",
    "        \n",
    "    "
   ]
  }
 ],
 "metadata": {
  "kernelspec": {
   "display_name": "Python 3",
   "language": "python",
   "name": "python3"
  },
  "language_info": {
   "codemirror_mode": {
    "name": "ipython",
    "version": 3
   },
   "file_extension": ".py",
   "mimetype": "text/x-python",
   "name": "python",
   "nbconvert_exporter": "python",
   "pygments_lexer": "ipython3",
   "version": "3.8.10"
  },
  "orig_nbformat": 4
 },
 "nbformat": 4,
 "nbformat_minor": 2
}
