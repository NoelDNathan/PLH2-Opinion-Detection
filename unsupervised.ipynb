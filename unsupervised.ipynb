{
 "cells": [
  {
   "cell_type": "code",
   "execution_count": 1,
   "metadata": {},
   "outputs": [
    {
     "name": "stdout",
     "output_type": "stream",
     "text": [
      "Synsets of the word 'car':\n",
      "car.n.01 - a motor vehicle with four wheels; usually propelled by an internal combustion engine\n",
      "car.n.02 - a wheeled vehicle adapted to the rails of railroad\n",
      "car.n.03 - the compartment that is suspended from an airship and that carries personnel and the cargo and the power plant\n",
      "car.n.04 - where passengers ride up and down\n",
      "cable_car.n.01 - a conveyance for passengers or freight on a cable railway\n"
     ]
    }
   ],
   "source": [
    "import nltk\n",
    "from nltk.corpus import wordnet as wn\n",
    "\n",
    "word = \"car\"\n",
    "synsets = wn.synsets(word)\n"
   ]
  },
  {
   "cell_type": "code",
   "execution_count": null,
   "metadata": {},
   "outputs": [],
   "source": [
    "from nltk.corpus import movie_reviews as mr"
   ]
  },
  {
   "cell_type": "code",
   "execution_count": 9,
   "metadata": {},
   "outputs": [
    {
     "name": "stdout",
     "output_type": "stream",
     "text": [
      "hola\n",
      "fantastic 0.1995212623397204\n"
     ]
    }
   ],
   "source": [
    "import nltk\n",
    "from nltk.corpus import wordnet as wn\n",
    "from nltk.corpus import sentiwordnet as swn\n",
    "\n",
    "# Define una función para calcular la polaridad de un synset\n",
    "def synset_polarity(synset):\n",
    "    senti_synset = swn.senti_synset(synset.name())\n",
    "    if not senti_synset:\n",
    "        # Si el synset no tiene entrada en SentiWordNet, devuelve polaridad neutra\n",
    "        return 0\n",
    "    else:\n",
    "        # Calcula la polaridad positiva y negativa del synset\n",
    "        pos_score = senti_synset.pos_score()\n",
    "        neg_score = senti_synset.neg_score()\n",
    "        # Calcula la polaridad total normalizada\n",
    "        polarity = (pos_score - neg_score) / (pos_score + neg_score + 0.001)\n",
    "        return polarity\n",
    "\n",
    "# Define una función para obtener los synsets y polaridades de cada adjetivo en un conjunto de texto\n",
    "def get_adjective_polarities(text):\n",
    "    words = nltk.word_tokenize(text)\n",
    "    adjectives = []\n",
    "    for word, pos in nltk.pos_tag(words):\n",
    "        if pos.startswith('JJ'):\n",
    "            adjectives.append((word, pos, wn.synsets(word)))\n",
    "    polarities = []\n",
    "    for word, pos, synsets in adjectives:\n",
    "        polarity = 0\n",
    "        count = 0\n",
    "        for synset in synsets:\n",
    "            polarity += synset_polarity(synset)\n",
    "            count += 1\n",
    "        if count > 0:\n",
    "            polarity /= count\n",
    "        polarities.append((word, polarity))\n",
    "    return polarities\n",
    "\n",
    "# Ejemplo de uso\n",
    "text = \"I loved the movie, it was fantastic!\"\n",
    "polarities = get_adjective_polarities(text)\n",
    "for word, polarity in polarities:\n",
    "    print(word, polarity)\n",
    "\n",
    "\n"
   ]
  },
  {
   "cell_type": "code",
   "execution_count": 10,
   "metadata": {},
   "outputs": [],
   "source": [
    "import pandas as pd\n",
    "from sklearn.model_selection import train_test_split\n",
    "\n",
    "# Carga los datos\n",
    "df = pd.read_csv('reviews.csv')\n",
    "X = df.drop('sentiment', axis=1)\n",
    "y = df['sentiment']\n",
    "\n",
    "# Split the data into training and test sets\n",
    "X_train, X_test, y_train, y_test = train_test_split(X, y, test_size=0.2, random_state=1)"
   ]
  },
  {
   "cell_type": "code",
   "execution_count": null,
   "metadata": {},
   "outputs": [],
   "source": []
  }
 ],
 "metadata": {
  "kernelspec": {
   "display_name": "Python 3",
   "language": "python",
   "name": "python3"
  },
  "language_info": {
   "codemirror_mode": {
    "name": "ipython",
    "version": 3
   },
   "file_extension": ".py",
   "mimetype": "text/x-python",
   "name": "python",
   "nbconvert_exporter": "python",
   "pygments_lexer": "ipython3",
   "version": "3.8.10"
  },
  "orig_nbformat": 4
 },
 "nbformat": 4,
 "nbformat_minor": 2
}
